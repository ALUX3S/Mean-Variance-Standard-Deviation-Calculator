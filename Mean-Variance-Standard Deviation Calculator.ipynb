{
 "cells": [
  {
   "cell_type": "code",
   "execution_count": 200,
   "id": "7306eee1-d6dc-4477-a0a0-329ff880ac2f",
   "metadata": {},
   "outputs": [],
   "source": [
    "import numpy as np"
   ]
  },
  {
   "cell_type": "code",
   "execution_count": 201,
   "id": "1db7cf6c-d917-458e-b0e5-cb8206a96d84",
   "metadata": {},
   "outputs": [],
   "source": [
    "def calculate(list):\n",
    "    if len(list) < 9:\n",
    "        raise ValueError(\"List must contain nine numbers.\")\n",
    "        \n",
    "    arr = np.reshape(list,(3,3))\n",
    "    dic = {\n",
    "        'mean': [arr.mean(axis=0).tolist(), arr.mean(axis=1).tolist(), arr.mean().tolist()],\n",
    "        'variance': [arr.var(axis=0).tolist(), arr.var(axis=1).tolist(), arr.var().tolist()],\n",
    "        'standard deviation': [arr.std(axis=0).tolist(), arr.std(axis=1).tolist(), arr.std().tolist()],\n",
    "        'max': [arr.max(axis=0).tolist(),arr.max(axis=1).tolist(), arr.max().tolist()],\n",
    "        'min': [arr.min(axis=0).tolist(), arr.min(axis=1).tolist(), arr.min().tolist()],\n",
    "        'sum': [arr.sum(axis=0).tolist(), arr.sum(axis=1).tolist(), arr.sum().tolist()]\n",
    "    }\n",
    "    return dic"
   ]
  },
  {
   "cell_type": "code",
   "execution_count": 202,
   "id": "b099af2f-db36-4cd5-b1cc-88e5ea9bed66",
   "metadata": {},
   "outputs": [
    {
     "data": {
      "text/plain": [
       "{'mean': [[3.0, 4.0, 5.0], [1.0, 4.0, 7.0], 4.0],\n",
       " 'variance': [[6.0, 6.0, 6.0],\n",
       "  [0.6666666666666666, 0.6666666666666666, 0.6666666666666666],\n",
       "  6.666666666666667],\n",
       " 'standard deviation': [[2.449489742783178,\n",
       "   2.449489742783178,\n",
       "   2.449489742783178],\n",
       "  [0.816496580927726, 0.816496580927726, 0.816496580927726],\n",
       "  2.581988897471611],\n",
       " 'max': [[6, 7, 8], [2, 5, 8], 8],\n",
       " 'min': [[0, 1, 2], [0, 3, 6], 0],\n",
       " 'sum': [[9, 12, 15], [3, 12, 21], 36]}"
      ]
     },
     "execution_count": 202,
     "metadata": {},
     "output_type": "execute_result"
    }
   ],
   "source": [
    "calculate(np.arange(9))"
   ]
  },
  {
   "cell_type": "code",
   "execution_count": 203,
   "id": "8cf45742-30d8-4232-a0ba-e7a6435e07df",
   "metadata": {},
   "outputs": [],
   "source": [
    "my_list =[1,2,3]"
   ]
  },
  {
   "cell_type": "code",
   "execution_count": 204,
   "id": "b59f82a5-7ffa-4ec0-aecb-f5f0b51c84b2",
   "metadata": {},
   "outputs": [
    {
     "ename": "ValueError",
     "evalue": "List must contain nine numbers.",
     "output_type": "error",
     "traceback": [
      "\u001b[31m---------------------------------------------------------------------------\u001b[39m",
      "\u001b[31mValueError\u001b[39m                                Traceback (most recent call last)",
      "\u001b[36mCell\u001b[39m\u001b[36m \u001b[39m\u001b[32mIn[204]\u001b[39m\u001b[32m, line 1\u001b[39m\n\u001b[32m----> \u001b[39m\u001b[32m1\u001b[39m \u001b[43mcalculate\u001b[49m\u001b[43m(\u001b[49m\u001b[43mmy_list\u001b[49m\u001b[43m)\u001b[49m\n",
      "\u001b[36mCell\u001b[39m\u001b[36m \u001b[39m\u001b[32mIn[201]\u001b[39m\u001b[32m, line 3\u001b[39m, in \u001b[36mcalculate\u001b[39m\u001b[34m(list)\u001b[39m\n\u001b[32m      1\u001b[39m \u001b[38;5;28;01mdef\u001b[39;00m\u001b[38;5;250m \u001b[39m\u001b[34mcalculate\u001b[39m(\u001b[38;5;28mlist\u001b[39m):\n\u001b[32m      2\u001b[39m     \u001b[38;5;28;01mif\u001b[39;00m \u001b[38;5;28mlen\u001b[39m(\u001b[38;5;28mlist\u001b[39m) < \u001b[32m9\u001b[39m:\n\u001b[32m----> \u001b[39m\u001b[32m3\u001b[39m         \u001b[38;5;28;01mraise\u001b[39;00m \u001b[38;5;167;01mValueError\u001b[39;00m(\u001b[33m\"\u001b[39m\u001b[33mList must contain nine numbers.\u001b[39m\u001b[33m\"\u001b[39m)\n\u001b[32m      5\u001b[39m     arr = np.reshape(\u001b[38;5;28mlist\u001b[39m,(\u001b[32m3\u001b[39m,\u001b[32m3\u001b[39m))\n\u001b[32m      6\u001b[39m     dic = {\n\u001b[32m      7\u001b[39m         \u001b[33m'\u001b[39m\u001b[33mmean\u001b[39m\u001b[33m'\u001b[39m: [arr.mean(axis=\u001b[32m0\u001b[39m).tolist(), arr.mean(axis=\u001b[32m1\u001b[39m).tolist(), arr.mean().tolist()],\n\u001b[32m      8\u001b[39m         \u001b[33m'\u001b[39m\u001b[33mvariance\u001b[39m\u001b[33m'\u001b[39m: [arr.var(axis=\u001b[32m0\u001b[39m).tolist(), arr.var(axis=\u001b[32m1\u001b[39m).tolist(), arr.var().tolist()],\n\u001b[32m   (...)\u001b[39m\u001b[32m     12\u001b[39m         \u001b[33m'\u001b[39m\u001b[33msum\u001b[39m\u001b[33m'\u001b[39m: [arr.sum(axis=\u001b[32m0\u001b[39m).tolist(), arr.sum(axis=\u001b[32m1\u001b[39m).tolist(), arr.sum().tolist()]\n\u001b[32m     13\u001b[39m     }\n",
      "\u001b[31mValueError\u001b[39m: List must contain nine numbers."
     ]
    }
   ],
   "source": [
    "calculate(my_list)"
   ]
  },
  {
   "cell_type": "code",
   "execution_count": null,
   "id": "d59e7160-4ff4-4bdc-909e-76ddadff15e0",
   "metadata": {},
   "outputs": [],
   "source": []
  }
 ],
 "metadata": {
  "kernelspec": {
   "display_name": "Python 3 (ipykernel)",
   "language": "python",
   "name": "python3"
  },
  "language_info": {
   "codemirror_mode": {
    "name": "ipython",
    "version": 3
   },
   "file_extension": ".py",
   "mimetype": "text/x-python",
   "name": "python",
   "nbconvert_exporter": "python",
   "pygments_lexer": "ipython3",
   "version": "3.13.4"
  }
 },
 "nbformat": 4,
 "nbformat_minor": 5
}
